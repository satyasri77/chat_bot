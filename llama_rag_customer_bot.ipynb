{
  "nbformat": 4,
  "nbformat_minor": 0,
  "metadata": {
    "colab": {
      "provenance": [],
      "gpuType": "V28",
      "mount_file_id": "https://gist.github.com/satyasri77/7b89004cb0348f52d8b66d976058d460#file-llama_rag_customer_bot-ipynb",
      "authorship_tag": "ABX9TyO8wUOc4jXoXdgp/2lF4wUW",
      "include_colab_link": true
    },
    "kernelspec": {
      "name": "python3",
      "display_name": "Python 3"
    },
    "language_info": {
      "name": "python"
    },
    "accelerator": "TPU"
  },
  "cells": [
    {
      "cell_type": "markdown",
      "metadata": {
        "id": "view-in-github",
        "colab_type": "text"
      },
      "source": [
        "<a href=\"https://colab.research.google.com/github/satyasri77/chat_bot/blob/main/llama_rag_customer_bot.ipynb\" target=\"_parent\"><img src=\"https://colab.research.google.com/assets/colab-badge.svg\" alt=\"Open In Colab\"/></a>"
      ]
    },
    {
      "cell_type": "code",
      "execution_count": null,
      "metadata": {
        "id": "eSMXYAmceopr"
      },
      "outputs": [],
      "source": [
        "!pip install -q llama-cpp-python sentence-transformers faiss-cpu huggingface-hub"
      ]
    },
    {
      "cell_type": "code",
      "source": [
        "pip install -U langchain-community"
      ],
      "metadata": {
        "id": "0jjD1TVoiOzQ"
      },
      "execution_count": null,
      "outputs": []
    },
    {
      "cell_type": "code",
      "source": [
        "from huggingface_hub import hf_hub_download\n",
        "\n",
        "HF_TOKEN = \"your_token\"  # ← Replace with your Hugging Face token\n",
        "\n",
        "model_path = hf_hub_download(\n",
        "    repo_id=\"TheBloke/Mistral-7B-Instruct-v0.1-GGUF\",\n",
        "    filename=\"mistral-7b-instruct-v0.1.Q4_K_M.gguf\",\n",
        "    token=HF_TOKEN\n",
        ")\n"
      ],
      "metadata": {
        "id": "KHLoZmYJewej"
      },
      "execution_count": null,
      "outputs": []
    },
    {
      "cell_type": "code",
      "source": [
        "from langchain.document_loaders import TextLoader\n",
        "from langchain.text_splitter import RecursiveCharacterTextSplitter\n",
        "\n",
        "loader = TextLoader(\"customer_service_info.txt\")  # ← Upload this file first\n",
        "documents = loader.load()\n",
        "\n",
        "splitter = RecursiveCharacterTextSplitter(chunk_size=500, chunk_overlap=50)\n",
        "docs = splitter.split_documents(documents)\n"
      ],
      "metadata": {
        "id": "eWGxr6AwgScU"
      },
      "execution_count": null,
      "outputs": []
    },
    {
      "cell_type": "code",
      "source": [
        "from langchain.embeddings import HuggingFaceEmbeddings\n",
        "from langchain.vectorstores import FAISS\n",
        "\n",
        "embeddings = HuggingFaceEmbeddings(model_name=\"all-MiniLM-L6-v2\")\n",
        "db = FAISS.from_documents(docs, embeddings)\n",
        "retriever = db.as_retriever(search_kwargs={\"k\": 1})\n"
      ],
      "metadata": {
        "id": "nyQCPvT0gUOO"
      },
      "execution_count": null,
      "outputs": []
    },
    {
      "cell_type": "code",
      "source": [
        "from llama_cpp import Llama\n",
        "\n",
        "llm = Llama(model_path=model_path, n_ctx=1024, verbose=False)\n"
      ],
      "metadata": {
        "id": "LvROkQbXgWf7"
      },
      "execution_count": null,
      "outputs": []
    },
    {
      "cell_type": "code",
      "source": [
        "def ask(question):\n",
        "    # Step 1: Retrieve top relevant chunks\n",
        "    context_docs = retriever.get_relevant_documents(question)\n",
        "    context = \"\\n\".join(doc.page_content for doc in context_docs)\n",
        "\n",
        "    # Step 2: If nothing relevant was found, return fallback message\n",
        "    if not context.strip():\n",
        "        return \"I'm only able to answer customer support related questions.\"\n",
        "\n",
        "    # Step 3: Build a strict prompt using only the retrieved context\n",
        "    prompt = f\"\"\"\n",
        "You are a helpful customer support assistant.\n",
        "Only answer based on the context below. Do not use outside knowledge.\n",
        "If the answer is not related to customer support queries, reply with:\n",
        "\"I'm only able to answer customer support related questions.\"\n",
        "\n",
        "Context:\n",
        "{context}\n",
        "\n",
        "Question: {question}\n",
        "Answer:\"\"\"\n",
        "\n",
        "    response = llm(prompt, max_tokens=200,temperature=0,top_p=0.8, top_k=40)\n",
        "    return response[\"choices\"][0][\"text\"].strip()\n"
      ],
      "metadata": {
        "id": "-WG06q3EgYft"
      },
      "execution_count": null,
      "outputs": []
    },
    {
      "cell_type": "code",
      "source": [
        "print(\"💬 LLaMA RAG Chatbot Ready! Type 'exit' to stop.\\n\")\n",
        "while True:\n",
        "    q = input(\"You: \")\n",
        "    if q.lower() in ['exit', 'quit']:\n",
        "        break\n",
        "    print(\"Bot:\", ask(q), \"\\n\")"
      ],
      "metadata": {
        "id": "tpOaIdb1ooOW"
      },
      "execution_count": null,
      "outputs": []
    }
  ]
}